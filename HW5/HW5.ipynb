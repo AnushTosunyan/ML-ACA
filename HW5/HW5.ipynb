{
 "cells": [
  {
   "cell_type": "markdown",
   "metadata": {},
   "source": [
    "<span style=\"font-size: 14pt\">YEREVAN, May-June 2017</span>\n",
    "\n",
    "<span style=\"font-size: 16pt\"> HW #5: Compositions of time series forecasting algorithms\n",
    "\n",
    "<span style=\"color:blue; font-size: 12pt\">Alexey Romanenko </span>,\n",
    "<span style=\"color:blue; font-size: 12pt; font-family: 'Verdana'\">alexromsput@gmail.com</span>\n",
    "\n",
    "\n",
    "<h1 align=\"center\"> Home Work 5 </h1>\n",
    "** Realize following composions for adaptive algorithms (ESM): Adaptive Selection and Adaptive Composition.**\n",
    "\n",
    "Start with the code below"
   ]
  },
  {
   "cell_type": "code",
   "execution_count": null,
   "metadata": {
    "collapsed": false
   },
   "outputs": [],
   "source": [
    "import pandas as pd\n",
    "import numpy as np\n",
    "import math\n",
    "from datetime import datetime, timedelta\n",
    "from utils import qualityRMSE, qualityMedianAE, qualityMACAPE\n",
    "from utils import ExponentialSmoothing as SimpleExponentialSmoothing, AdaptiveExponentialSmoothing #, TheilWageExponentialSmoothing\n",
    "%matplotlib inline\n"
   ]
  },
  {
   "cell_type": "code",
   "execution_count": null,
   "metadata": {
    "collapsed": false
   },
   "outputs": [],
   "source": [
    "BaseAlgs = [{'BaseAlg':'SimpleExponentialSmoothing', 'BaseAlgParams':{'alpha':0.1, 'AdaptationPeriod':10}},\n",
    "            {'BaseAlg':'AdaptiveExponentialSmoothing', 'BaseAlgParams':{'alpha':0.2,'gamma':0.01, 'AdaptationPeriod':10}},\n",
    "                  {'BaseAlg':'AdaptiveExponentialSmoothing', 'BaseAlgParams':{'alpha':0.1, 'gamma':0.01,  'AdaptationPeriod':10}},\n",
    "                 #{'BaseAlg':'TheilWageSmoothing', 'BaseAlgParams':{'alpha':0.3, 'beta':0.9,'delta':0.9,  'AdaptationPeriod':10}}\n",
    "]"
   ]
  },
  {
   "cell_type": "code",
   "execution_count": null,
   "metadata": {
    "collapsed": false
   },
   "outputs": [],
   "source": [
    "def AdaptiveSelection(x, h, Params):\n",
    "    '''\n",
    "    Parameters\n",
    "    x <array> - time series\n",
    "    h <integer scalar>- forecasting delay\n",
    "    Params <dict> - dictionary with \n",
    "        gamma <scalar in [0,1]> - smoothing parameter of error\n",
    "        eps <scalar> - bound for best indistinctive models\n",
    "        BaseAlgs - array of <dict> with params\n",
    "            BaseAlg <string> - name of base algorithm\n",
    "            BaseAlfParams <dict> dictionary of base algorithm's params\n",
    "    '''\n",
    "    x = np.nan_to_num(x)\n",
    "    T = len(x)\n",
    "    FORECAST = [np.NaN]*(T+h)\n",
    "    # Base Algs Forecasts     \n",
    "    BaseAlgs = Params['BaseAlgsParams']\n",
    "    N = len(BaseAlgs)\n",
    "    FORECAST_BA = np.array([np.NAN]*(T+h)*N).reshape(N, T+h)\n",
    "    \n",
    "    #forecast TS by each base algs\n",
    "    #be careful with eval() function    \n",
    "    for ba in range(len(BaseAlgs)):\n",
    "        FORECAST_BA[ba]= eval(BaseAlgs[ba]['BaseAlg']+\"(x,h,\"+\"BaseAlgs[\"+str(ba)+\"]['BaseAlgParams'])\")\n",
    "        \n",
    "    #internal params of composition\n",
    "    gamma = Params['gamma']\n",
    "    eps = Params['eps']\n",
    "    \n",
    "    if gamma>1:\n",
    "        w.warn('Gamma can not be more than 1')\n",
    "        #alpha = 1\n",
    "        return FORECAST\n",
    "    if gamma<0:\n",
    "        w.warn('Gamma can not be less than 0')\n",
    "        #alpha = 0\n",
    "        return FORECAST\n",
    "\n",
    "    \n",
    "    e1= [0]*N  # initialization of errors of base algorithms \n",
    "    j_best = [0]*N\n",
    "    y = 0\n",
    "    \n",
    "    for t in range(0, T):\n",
    "        if not math.isnan(x[t]):\n",
    "            \n",
    "            if t>= h:\n",
    "                for index,key in enumerate(FORECAST_BA):\n",
    "                    e1[index] = gamma*np.abs(x[t]-key.transpose()[t])+(1-gamma)*e1[index]\n",
    "\n",
    "                j_best = np.argmin(e1)\n",
    "                idx_bestinsdistinctive = []\n",
    "                # select best indistinctive \n",
    "                for index, error in enumerate(e1):\n",
    "                    if abs(error - e1[j_best]) < eps:\n",
    "                        idx_bestinsdistinctive.append(index)\n",
    "                y = FORECAST_BA[idx_bestinsdistinctive][:,t].mean()\n",
    "        FORECAST[t+h] = y\n",
    "    return FORECAST"
   ]
  },
  {
   "cell_type": "code",
   "execution_count": null,
   "metadata": {
    "collapsed": false
   },
   "outputs": [],
   "source": [
    "def AdaptiveCombination(x, h, Params):\n",
    "    '''\n",
    "    Parameters\n",
    "    x <array> - time series\n",
    "    h <integer scalar>- forecasting delay\n",
    "    Params <dict> - dictionary with \n",
    "        gamma <scalar in [0,1]> - smoothing parameter of error\n",
    "        BaseAlgs - array of <dict> with params\n",
    "            BaseAlg <string> - name of base algorithm\n",
    "            BaseAlfParams <dict> dictionary of base algorithm's params\n",
    "    '''\n",
    "    x = np.nan_to_num(x)\n",
    "    T = len(x)\n",
    "    FORECAST = [np.NaN]*(T+h)\n",
    "\n",
    "    \n",
    "    \n",
    "    # Base Algs Forecasts     \n",
    "    BaseAlgs = Params['BaseAlgsParams']\n",
    "    N = len(BaseAlgs)\n",
    "    FORECAST_BA = np.array([np.NAN]*(T+h)*N).reshape(N, T+h)\n",
    "    \n",
    "    \n",
    "    #     forecast TS by each base algs\n",
    "    #     be careful with eval() function    \n",
    "    for ba in range(len(BaseAlgs)):\n",
    "        FORECAST_BA[ba]= eval(BaseAlgs[ba]['BaseAlg']+\"(x,h,\"+\"BaseAlgs[\"+str(ba)+\"]['BaseAlgParams'])\")\n",
    "    \n",
    "    # internal params of composition\n",
    "    gamma = Params['gamma']\n",
    "\n",
    "    if gamma>1:\n",
    "        w.warn('Gamma can not be more than 1')\n",
    "        #alpha = 1\n",
    "        return FORECAST\n",
    "    if gamma<0:\n",
    "        w.warn('Gamma can not be less than 0')\n",
    "        #alpha = 0\n",
    "        return FORECAST\n",
    "\n",
    "    \n",
    "    e1= [0]*N  # initialization of errors of base algorithms \n",
    "    weights = [0]*N\n",
    "    y = 0\n",
    "    for t in range(0, T):\n",
    "        if not math.isnan(x[t]):\n",
    "            \n",
    "            if t>= h:\n",
    "                for index,key in enumerate(FORECAST_BA):\n",
    "                    e1[index] = gamma*np.abs(x[t]-key.transpose()[t])+(1-gamma)*e1[index]\n",
    "\n",
    "                w = np.ones(len(FORECAST_BA))\n",
    "                sum_err = 0.0\n",
    "                for index, error in enumerate(e1):\n",
    "                    if error != 0: \n",
    "                        sum_err+=float(1.0/error)\n",
    "                    else:\n",
    "                        sum_err = 1\n",
    "\n",
    "                for index, error in enumerate(e1):\n",
    "                    if error!=0:\n",
    "                        w[index] = (1/error)/sum_err\n",
    "                    else:\n",
    "                        w[index] = 1/len(FORECAST_BA)\n",
    "                y = 0\n",
    "                for index, wage in enumerate(w):\n",
    "                    y += wage * FORECAST_BA[index][t]\n",
    "            \n",
    "        FORECAST[t+h] = y\n",
    "    return FORECAST"
   ]
  },
  {
   "cell_type": "code",
   "execution_count": null,
   "metadata": {
    "collapsed": false
   },
   "outputs": [],
   "source": [
    "for ba in range(len(BaseAlgs)):\n",
    "    print(BaseAlgs[ba]['BaseAlg']+\"(x,h,\"+\"BaseAlgs[\"+str(ba)+\"]['BaseAlgsParams'])\")"
   ]
  },
  {
   "cell_type": "code",
   "execution_count": null,
   "metadata": {
    "collapsed": false
   },
   "outputs": [],
   "source": [
    "ts = pd.read_csv('./data/TimeSeries_Data10.csv', sep=',', decimal='.', parse_dates=True, dayfirst=True, index_col='Dates')\n",
    "ts.index.names=['Timestamp']\n",
    "# ts = pd.read_csv('./data/TimeSeries_Data10.csv', sep=',', decimal='.')\n",
    "ts = ts.sort_index() # sort index"
   ]
  },
  {
   "cell_type": "code",
   "execution_count": null,
   "metadata": {
    "collapsed": false
   },
   "outputs": [],
   "source": [
    "h =1 \n",
    "frc_ts_s = pd.DataFrame(index = ts.index.append(pd.date_range(ts.index[-1]+timedelta(1), ts.index[-1]+timedelta(h)))\n",
    "                      , columns = ts.columns)\n",
    "frc_ts_c = pd.DataFrame(index = ts.index.append(pd.date_range(ts.index[-1]+timedelta(1), ts.index[-1]+timedelta(h)))\n",
    "                      , columns = ts.columns)\n",
    "FRC_TS = dict()"
   ]
  },
  {
   "cell_type": "code",
   "execution_count": null,
   "metadata": {
    "collapsed": false
   },
   "outputs": [],
   "source": [
    "# run Adaptive Selection\n",
    "gamma=0.01\n",
    "eps = 0.01\n",
    "\n",
    "for cntr in ts.columns:\n",
    "    frc_ts_s[cntr]= AdaptiveSelection(ts[cntr],h, {'gamma':gamma, 'eps': eps, 'BaseAlgsParams':BaseAlgs})\n",
    "FRC_TS['AS gamma %.2f eps %.2f' % (gamma, eps)] = frc_ts_s"
   ]
  },
  {
   "cell_type": "code",
   "execution_count": null,
   "metadata": {
    "collapsed": false
   },
   "outputs": [],
   "source": [
    "ts['Item: 2765'].plot()\n",
    "frc_ts_s['Item: 2765'].plot()"
   ]
  },
  {
   "cell_type": "code",
   "execution_count": null,
   "metadata": {
    "collapsed": false
   },
   "outputs": [],
   "source": [
    "# run Adaptive Composition\n",
    "gamma=0.01\n",
    "\n",
    "for cntr in ts.columns:\n",
    "    frc_ts_c[cntr]= AdaptiveCombination(ts[cntr],h, {'gamma':gamma, 'BaseAlgsParams':BaseAlgs})\n",
    "FRC_TS['AC gamma %.2f' % (gamma)] = frc_ts_c"
   ]
  },
  {
   "cell_type": "code",
   "execution_count": null,
   "metadata": {
    "collapsed": false
   },
   "outputs": [],
   "source": [
    "ts['Item: 2765'].plot()\n",
    "frc_ts_c['Item: 2765'].plot()"
   ]
  },
  {
   "cell_type": "code",
   "execution_count": null,
   "metadata": {
    "collapsed": false
   },
   "outputs": [],
   "source": [
    "QualityStr = pd.DataFrame(index = ts.columns, columns = sorted(FRC_TS.keys()))\n",
    "\n",
    "for model in QualityStr.columns:\n",
    "    frc_ts = FRC_TS[model]\n",
    "    for ts_num in ts.columns:\n",
    "        QualityStr[model][ts_num],_ = qualityMedianAE(ts[ts_num], frc_ts[ts_num])\n",
    "\n",
    "QualityStr.plot(figsize = (15,6))"
   ]
  },
  {
   "cell_type": "code",
   "execution_count": null,
   "metadata": {
    "collapsed": true
   },
   "outputs": [],
   "source": []
  }
 ],
 "metadata": {
  "anaconda-cloud": {},
  "kernelspec": {
   "display_name": "Python 2",
   "language": "python",
   "name": "python2"
  },
  "language_info": {
   "codemirror_mode": {
    "name": "ipython",
    "version": 2
   },
   "file_extension": ".py",
   "mimetype": "text/x-python",
   "name": "python",
   "nbconvert_exporter": "python",
   "pygments_lexer": "ipython2",
   "version": "2.7.13"
  }
 },
 "nbformat": 4,
 "nbformat_minor": 1
}
